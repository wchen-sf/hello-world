{
  "nbformat": 4,
  "nbformat_minor": 0,
  "metadata": {
    "colab": {
      "name": "18q4_tf_notes_01.ipynb",
      "version": "0.3.2",
      "provenance": [],
      "collapsed_sections": [],
      "toc_visible": true,
      "include_colab_link": true
    },
    "kernelspec": {
      "name": "python3",
      "display_name": "Python 3"
    },
    "accelerator": "GPU"
  },
  "cells": [
    {
      "cell_type": "markdown",
      "metadata": {
        "id": "view-in-github",
        "colab_type": "text"
      },
      "source": [
        "[View in Colaboratory](https://colab.research.google.com/github/wchen-sf/hello-world/blob/master/18q4_tf_notes_01.ipynb)"
      ]
    },
    {
      "metadata": {
        "id": "0BVDjRTrym-I",
        "colab_type": "text"
      },
      "cell_type": "markdown",
      "source": [
        ""
      ]
    },
    {
      "metadata": {
        "id": "ep_LuA1gypPE",
        "colab_type": "text"
      },
      "cell_type": "markdown",
      "source": [
        "# ML at production scale\n",
        "## Linear model with tf.estimator"
      ]
    },
    {
      "metadata": {
        "id": "ywKn2aj5yU9u",
        "colab_type": "code",
        "colab": {}
      },
      "cell_type": "code",
      "source": [
        "import matplotlib.pyplot as plt\n",
        "%matplotlib inline\n",
        "\n",
        "import os\n",
        "import sys\n",
        "\n",
        "import tensorflow as tf\n",
        "import tensorflow.feature_column as fc\n",
        "\n",
        "from IPython.display import clear_output\n",
        "\n",
        "tf.enable_eager_execution()"
      ],
      "execution_count": 0,
      "outputs": []
    },
    {
      "metadata": {
        "id": "BRM1BIWfymCq",
        "colab_type": "code",
        "colab": {
          "base_uri": "https://localhost:8080/",
          "height": 134
        },
        "outputId": "4f8b2ee0-689b-46a5-be15-34f5fc7bcb47"
      },
      "cell_type": "code",
      "source": [
        "! pip install -q requests\n",
        "! git clone --depth 1 https://github.com/tensorflow/models"
      ],
      "execution_count": 4,
      "outputs": [
        {
          "output_type": "stream",
          "text": [
            "Cloning into 'models'...\n",
            "remote: Counting objects: 2885, done.\u001b[K\n",
            "remote: Compressing objects: 100% (2504/2504), done.\u001b[K\n",
            "remote: Total 2885 (delta 485), reused 1763 (delta 309), pack-reused 0\u001b[K\n",
            "Receiving objects: 100% (2885/2885), 376.27 MiB | 34.52 MiB/s, done.\n",
            "Resolving deltas: 100% (485/485), done.\n",
            "Checking out files: 100% (2725/2725), done.\n"
          ],
          "name": "stdout"
        }
      ]
    },
    {
      "metadata": {
        "id": "2AXGfACoz5dm",
        "colab_type": "code",
        "colab": {
          "base_uri": "https://localhost:8080/",
          "height": 50
        },
        "outputId": "04bf17bb-54bf-46cc-f87e-766a6c4a68ea"
      },
      "cell_type": "code",
      "source": [
        "ls models"
      ],
      "execution_count": 7,
      "outputs": [
        {
          "output_type": "stream",
          "text": [
            "AUTHORS     CONTRIBUTING.md    LICENSE    README.md  \u001b[0m\u001b[01;34msamples\u001b[0m/    WORKSPACE\n",
            "CODEOWNERS  ISSUE_TEMPLATE.md  \u001b[01;34mofficial\u001b[0m/  \u001b[01;34mresearch\u001b[0m/  \u001b[01;34mtutorials\u001b[0m/\n"
          ],
          "name": "stdout"
        }
      ]
    },
    {
      "metadata": {
        "id": "126Sd-WB0Jnc",
        "colab_type": "code",
        "colab": {
          "base_uri": "https://localhost:8080/",
          "height": 34
        },
        "outputId": "d862ca45-e635-40d2-e2bd-cd8bf380bdf5"
      },
      "cell_type": "code",
      "source": [
        "models_path = os.path.join(os.getcwd(), 'models')\n",
        "sys.path.append(models_path)\n",
        "\n",
        "if 'PYTHONPATH' in os.environ:\n",
        "  os.environ['PYTHONPATH'] += os.pathsep + models_path\n",
        "\n",
        "print(models_path)"
      ],
      "execution_count": 8,
      "outputs": [
        {
          "output_type": "stream",
          "text": [
            "/content/models\n"
          ],
          "name": "stdout"
        }
      ]
    },
    {
      "metadata": {
        "id": "2-m2LwLk0bt4",
        "colab_type": "code",
        "colab": {
          "base_uri": "https://localhost:8080/",
          "height": 34
        },
        "outputId": "08d5eaf1-5317-4268-d768-706642bc4373"
      },
      "cell_type": "code",
      "source": [
        "from official.wide_deep import census_dataset\n",
        "from official.wide_deep import census_main\n",
        "\n",
        "census_dataset.download('./dataset/census_data')\n",
        "! ls dataset/census_data"
      ],
      "execution_count": 12,
      "outputs": [
        {
          "output_type": "stream",
          "text": [
            "adult.data  adult.test\n"
          ],
          "name": "stdout"
        }
      ]
    },
    {
      "metadata": {
        "id": "ydC_J_tG0xq_",
        "colab_type": "code",
        "colab": {
          "base_uri": "https://localhost:8080/",
          "height": 2137
        },
        "outputId": "dd4968fc-4f1b-4d30-cb5a-9afda19586d0"
      },
      "cell_type": "code",
      "source": [
        "# !python -m official.wide_deep.census_main --help\n",
        "!python -m official.wide_deep.census_main --model_type=wide --train_epochs=2"
      ],
      "execution_count": 17,
      "outputs": [
        {
          "output_type": "stream",
          "text": [
            "2018-09-16 05:26:50.893335: I tensorflow/stream_executor/cuda/cuda_gpu_executor.cc:897] successful NUMA node read from SysFS had negative value (-1), but there must be at least one NUMA node, so returning NUMA node zero\n",
            "2018-09-16 05:26:50.893810: I tensorflow/core/common_runtime/gpu/gpu_device.cc:1405] Found device 0 with properties: \n",
            "name: Tesla K80 major: 3 minor: 7 memoryClockRate(GHz): 0.8235\n",
            "pciBusID: 0000:00:04.0\n",
            "totalMemory: 11.17GiB freeMemory: 11.10GiB\n",
            "2018-09-16 05:26:50.893857: I tensorflow/core/common_runtime/gpu/gpu_device.cc:1484] Adding visible gpu devices: 0\n",
            "2018-09-16 05:26:51.293384: I tensorflow/core/common_runtime/gpu/gpu_device.cc:965] Device interconnect StreamExecutor with strength 1 edge matrix:\n",
            "2018-09-16 05:26:51.293480: I tensorflow/core/common_runtime/gpu/gpu_device.cc:971]      0 \n",
            "2018-09-16 05:26:51.293523: I tensorflow/core/common_runtime/gpu/gpu_device.cc:984] 0:   N \n",
            "2018-09-16 05:26:51.293908: I tensorflow/core/common_runtime/gpu/gpu_device.cc:1097] Created TensorFlow device (/device:GPU:0 with 10759 MB memory) -> physical GPU (device: 0, name: Tesla K80, pci bus id: 0000:00:04.0, compute capability: 3.7)\n",
            "I0916 05:26:54.049296 139666181859200 tf_logging.py:115] Using config: {'_model_dir': '/tmp/census_model', '_tf_random_seed': None, '_save_summary_steps': 100, '_save_checkpoints_steps': None, '_save_checkpoints_secs': 600, '_session_config': device_count {\n",
            "  key: \"GPU\"\n",
            "}\n",
            ", '_keep_checkpoint_max': 5, '_keep_checkpoint_every_n_hours': 10000, '_log_step_count_steps': 100, '_train_distribute': None, '_device_fn': None, '_service': None, '_cluster_spec': <tensorflow.python.training.server_lib.ClusterSpec object at 0x7f06324356a0>, '_task_type': 'worker', '_task_id': 0, '_global_id_in_cluster': 0, '_master': '', '_evaluation_master': '', '_is_chief': True, '_num_ps_replicas': 0, '_num_worker_replicas': 1}\n",
            "W0916 05:26:54.050467 139666181859200 tf_logging.py:120] 'cpuinfo' not imported. CPU info will not be logged.\n",
            "2018-09-16 05:26:54.050676: I tensorflow/core/common_runtime/gpu/gpu_device.cc:1484] Adding visible gpu devices: 0\n",
            "2018-09-16 05:26:54.050758: I tensorflow/core/common_runtime/gpu/gpu_device.cc:965] Device interconnect StreamExecutor with strength 1 edge matrix:\n",
            "2018-09-16 05:26:54.050790: I tensorflow/core/common_runtime/gpu/gpu_device.cc:971]      0 \n",
            "2018-09-16 05:26:54.050815: I tensorflow/core/common_runtime/gpu/gpu_device.cc:984] 0:   N \n",
            "2018-09-16 05:26:54.050979: I tensorflow/core/common_runtime/gpu/gpu_device.cc:1097] Created TensorFlow device (/device:GPU:0 with 10759 MB memory) -> physical GPU (device: 0, name: Tesla K80, pci bus id: 0000:00:04.0, compute capability: 3.7)\n",
            "I0916 05:26:59.152556 139666181859200 tf_logging.py:115] Benchmark run: {'model_name': 'wide_deep', 'dataset': {'name': 'Census Income'}, 'machine_config': {'gpu_info': {'count': 1, 'model': 'Tesla K80'}, 'memory_total': 13655273472, 'memory_available': 11888340992}, 'test_id': None, 'run_date': '2018-09-16T05:26:54.049988Z', 'tensorflow_version': {'version': '1.10.1', 'git_hash': 'unknown'}, 'tensorflow_environment_variables': [], 'run_parameters': [{'name': 'batch_size', 'long_value': 40}, {'name': 'model_type', 'string_value': 'wide'}, {'name': 'train_epochs', 'long_value': 2}]}\n",
            "I0916 05:26:59.183666 139666181859200 tf_logging.py:115] Parsing /tmp/census_data/adult.data\n",
            "I0916 05:26:59.224572 139666181859200 tf_logging.py:115] Calling model_fn.\n",
            "I0916 05:27:00.420632 139666181859200 tf_logging.py:115] Done calling model_fn.\n",
            "I0916 05:27:00.421035 139666181859200 tf_logging.py:115] Create CheckpointSaverHook.\n",
            "I0916 05:27:00.899251 139666181859200 tf_logging.py:115] Graph was finalized.\n",
            "2018-09-16 05:27:00.899718: I tensorflow/core/common_runtime/gpu/gpu_device.cc:1484] Adding visible gpu devices: 0\n",
            "2018-09-16 05:27:00.899795: I tensorflow/core/common_runtime/gpu/gpu_device.cc:965] Device interconnect StreamExecutor with strength 1 edge matrix:\n",
            "2018-09-16 05:27:00.899830: I tensorflow/core/common_runtime/gpu/gpu_device.cc:971]      0 \n",
            "2018-09-16 05:27:00.899860: I tensorflow/core/common_runtime/gpu/gpu_device.cc:984] 0:   N \n",
            "I0916 05:27:00.969123 139666181859200 tf_logging.py:115] Running local_init_op.\n",
            "I0916 05:27:00.989421 139666181859200 tf_logging.py:115] Done running local_init_op.\n",
            "I0916 05:27:01.851077 139666181859200 tf_logging.py:115] Saving checkpoints for 0 into /tmp/census_model/model.ckpt.\n",
            "I0916 05:27:02.422838 139666181859200 tf_logging.py:115] average_loss = 0.6931472, loss = 27.725887\n",
            "I0916 05:27:02.423312 139666181859200 tf_logging.py:115] loss = 27.725887, step = 1\n",
            "I0916 05:27:03.125155 139666181859200 tf_logging.py:115] global_step/sec: 142.307\n",
            "I0916 05:27:03.125958 139666181859200 tf_logging.py:115] average_loss = 0.39709944, loss = 15.883978 (0.703 sec)\n",
            "I0916 05:27:03.126212 139666181859200 tf_logging.py:115] loss = 15.883978, step = 101 (0.703 sec)\n",
            "I0916 05:27:03.516661 139666181859200 tf_logging.py:115] global_step/sec: 255.406\n",
            "I0916 05:27:03.517490 139666181859200 tf_logging.py:115] average_loss = 0.32154468, loss = 12.861787 (0.392 sec)\n",
            "I0916 05:27:03.517735 139666181859200 tf_logging.py:115] loss = 12.861787, step = 201 (0.392 sec)\n",
            "I0916 05:27:03.887701 139666181859200 tf_logging.py:115] global_step/sec: 269.498\n",
            "I0916 05:27:03.888621 139666181859200 tf_logging.py:115] average_loss = 0.2606345, loss = 10.425381 (0.371 sec)\n",
            "I0916 05:27:03.888864 139666181859200 tf_logging.py:115] loss = 10.425381, step = 301 (0.371 sec)\n",
            "I0916 05:27:04.260778 139666181859200 tf_logging.py:115] global_step/sec: 268.048\n",
            "I0916 05:27:04.261626 139666181859200 tf_logging.py:115] average_loss = 0.40917462, loss = 16.366985 (0.373 sec)\n",
            "I0916 05:27:04.261842 139666181859200 tf_logging.py:115] loss = 16.366985, step = 401 (0.373 sec)\n",
            "I0916 05:27:04.658345 139666181859200 tf_logging.py:115] global_step/sec: 251.526\n",
            "I0916 05:27:04.659186 139666181859200 tf_logging.py:115] average_loss = 0.35496125, loss = 14.19845 (0.398 sec)\n",
            "I0916 05:27:04.659380 139666181859200 tf_logging.py:115] loss = 14.19845, step = 501 (0.398 sec)\n",
            "I0916 05:27:05.031618 139666181859200 tf_logging.py:115] global_step/sec: 267.904\n",
            "I0916 05:27:05.032482 139666181859200 tf_logging.py:115] average_loss = 0.35655215, loss = 14.262086 (0.373 sec)\n",
            "I0916 05:27:05.032681 139666181859200 tf_logging.py:115] loss = 14.262086, step = 601 (0.373 sec)\n",
            "I0916 05:27:05.400084 139666181859200 tf_logging.py:115] global_step/sec: 271.394\n",
            "I0916 05:27:05.400917 139666181859200 tf_logging.py:115] average_loss = 0.23648325, loss = 9.45933 (0.368 sec)\n",
            "I0916 05:27:05.401119 139666181859200 tf_logging.py:115] loss = 9.45933, step = 701 (0.368 sec)\n",
            "I0916 05:27:05.799652 139666181859200 tf_logging.py:115] global_step/sec: 250.275\n",
            "I0916 05:27:05.800525 139666181859200 tf_logging.py:115] average_loss = 0.30086774, loss = 12.034709 (0.400 sec)\n",
            "I0916 05:27:05.800727 139666181859200 tf_logging.py:115] loss = 12.034709, step = 801 (0.400 sec)\n",
            "I0916 05:27:06.229157 139666181859200 tf_logging.py:115] global_step/sec: 232.84\n",
            "I0916 05:27:06.229974 139666181859200 tf_logging.py:115] average_loss = 0.46139818, loss = 18.455927 (0.429 sec)\n",
            "I0916 05:27:06.230237 139666181859200 tf_logging.py:115] loss = 18.455927, step = 901 (0.430 sec)\n",
            "I0916 05:27:06.597498 139666181859200 tf_logging.py:115] global_step/sec: 271.476\n",
            "I0916 05:27:06.598225 139666181859200 tf_logging.py:115] average_loss = 0.387795, loss = 15.5118 (0.368 sec)\n",
            "I0916 05:27:06.598432 139666181859200 tf_logging.py:115] loss = 15.5118, step = 1001 (0.368 sec)\n",
            "I0916 05:27:06.974595 139666181859200 tf_logging.py:115] global_step/sec: 265.182\n",
            "I0916 05:27:06.975452 139666181859200 tf_logging.py:115] average_loss = 0.2968337, loss = 11.873348 (0.377 sec)\n",
            "I0916 05:27:06.975685 139666181859200 tf_logging.py:115] loss = 11.873348, step = 1101 (0.377 sec)\n",
            "I0916 05:27:07.376336 139666181859200 tf_logging.py:115] global_step/sec: 248.917\n",
            "I0916 05:27:07.377233 139666181859200 tf_logging.py:115] average_loss = 0.29216725, loss = 11.686689 (0.402 sec)\n",
            "I0916 05:27:07.377440 139666181859200 tf_logging.py:115] loss = 11.686689, step = 1201 (0.402 sec)\n",
            "I0916 05:27:07.755160 139666181859200 tf_logging.py:115] global_step/sec: 263.97\n",
            "I0916 05:27:07.755968 139666181859200 tf_logging.py:115] average_loss = 0.2044177, loss = 8.176708 (0.379 sec)\n",
            "I0916 05:27:07.756224 139666181859200 tf_logging.py:115] loss = 8.176708, step = 1301 (0.379 sec)\n",
            "I0916 05:27:08.125836 139666181859200 tf_logging.py:115] global_step/sec: 269.783\n",
            "I0916 05:27:08.126720 139666181859200 tf_logging.py:115] average_loss = 0.28565198, loss = 11.426079 (0.371 sec)\n",
            "I0916 05:27:08.126954 139666181859200 tf_logging.py:115] loss = 11.426079, step = 1401 (0.371 sec)\n",
            "I0916 05:27:08.507268 139666181859200 tf_logging.py:115] global_step/sec: 262.181\n",
            "I0916 05:27:08.508164 139666181859200 tf_logging.py:115] average_loss = 0.26601166, loss = 10.640467 (0.381 sec)\n",
            "I0916 05:27:08.508360 139666181859200 tf_logging.py:115] loss = 10.640467, step = 1501 (0.381 sec)\n",
            "I0916 05:27:08.894371 139666181859200 tf_logging.py:115] global_step/sec: 258.304\n",
            "I0916 05:27:08.895203 139666181859200 tf_logging.py:115] average_loss = 0.5160197, loss = 20.640787 (0.387 sec)\n",
            "I0916 05:27:08.895408 139666181859200 tf_logging.py:115] loss = 20.640787, step = 1601 (0.387 sec)\n",
            "I0916 05:27:09.006687 139666181859200 tf_logging.py:115] Saving checkpoints for 1629 into /tmp/census_model/model.ckpt.\n",
            "I0916 05:27:09.160968 139666181859200 tf_logging.py:115] Loss for final step: 0.28127176.\n",
            "I0916 05:27:09.175623 139666181859200 tf_logging.py:115] Parsing /tmp/census_data/adult.test\n",
            "I0916 05:27:09.211358 139666181859200 tf_logging.py:115] Calling model_fn.\n",
            "W0916 05:27:10.569667 139666181859200 tf_logging.py:125] Trapezoidal rule is known to produce incorrect PR-AUCs; please switch to \"careful_interpolation\" instead.\n",
            "W0916 05:27:10.595295 139666181859200 tf_logging.py:125] Trapezoidal rule is known to produce incorrect PR-AUCs; please switch to \"careful_interpolation\" instead.\n",
            "I0916 05:27:10.619761 139666181859200 tf_logging.py:115] Done calling model_fn.\n",
            "I0916 05:27:10.651729 139666181859200 tf_logging.py:115] Starting evaluation at 2018-09-16-05:27:10\n",
            "I0916 05:27:10.815174 139666181859200 tf_logging.py:115] Graph was finalized.\n",
            "2018-09-16 05:27:10.815611: I tensorflow/core/common_runtime/gpu/gpu_device.cc:1484] Adding visible gpu devices: 0\n",
            "2018-09-16 05:27:10.815672: I tensorflow/core/common_runtime/gpu/gpu_device.cc:965] Device interconnect StreamExecutor with strength 1 edge matrix:\n",
            "2018-09-16 05:27:10.815705: I tensorflow/core/common_runtime/gpu/gpu_device.cc:971]      0 \n",
            "2018-09-16 05:27:10.815733: I tensorflow/core/common_runtime/gpu/gpu_device.cc:984] 0:   N \n",
            "I0916 05:27:10.817825 139666181859200 tf_logging.py:115] Restoring parameters from /tmp/census_model/model.ckpt-1629\n",
            "I0916 05:27:10.886923 139666181859200 tf_logging.py:115] Running local_init_op.\n",
            "I0916 05:27:10.920445 139666181859200 tf_logging.py:115] Done running local_init_op.\n",
            "I0916 05:27:13.362317 139666181859200 tf_logging.py:115] Finished evaluation at 2018-09-16-05:27:13\n",
            "I0916 05:27:13.362591 139666181859200 tf_logging.py:115] Saving dict for global step 1629: accuracy = 0.8356366, accuracy_baseline = 0.76377374, auc = 0.8844172, auc_precision_recall = 0.69669545, average_loss = 0.3504498, global_step = 1629, label/mean = 0.23622628, loss = 13.984493, precision = 0.6860687, prediction/mean = 0.24031954, recall = 0.56084245\n",
            "I0916 05:27:13.690501 139666181859200 tf_logging.py:115] Saving 'checkpoint_path' summary for global step 1629: /tmp/census_model/model.ckpt-1629\n",
            "I0916 05:27:13.691157 139666181859200 tf_logging.py:115] Results at epoch 2 / 2\n",
            "I0916 05:27:13.691300 139666181859200 tf_logging.py:115] ------------------------------------------------------------\n",
            "I0916 05:27:13.691445 139666181859200 tf_logging.py:115] accuracy: 0.8356366\n",
            "I0916 05:27:13.691565 139666181859200 tf_logging.py:115] accuracy_baseline: 0.76377374\n",
            "I0916 05:27:13.691693 139666181859200 tf_logging.py:115] auc: 0.8844172\n",
            "I0916 05:27:13.691817 139666181859200 tf_logging.py:115] auc_precision_recall: 0.69669545\n",
            "I0916 05:27:13.691941 139666181859200 tf_logging.py:115] average_loss: 0.3504498\n",
            "I0916 05:27:13.692067 139666181859200 tf_logging.py:115] global_step: 1629\n",
            "I0916 05:27:13.692211 139666181859200 tf_logging.py:115] label/mean: 0.23622628\n",
            "I0916 05:27:13.692331 139666181859200 tf_logging.py:115] loss: 13.984493\n",
            "I0916 05:27:13.692460 139666181859200 tf_logging.py:115] precision: 0.6860687\n",
            "I0916 05:27:13.692577 139666181859200 tf_logging.py:115] prediction/mean: 0.24031954\n",
            "I0916 05:27:13.692694 139666181859200 tf_logging.py:115] recall: 0.56084245\n",
            "I0916 05:27:13.692903 139666181859200 tf_logging.py:115] Benchmark metric: {'name': 'accuracy', 'value': 0.8356366157531738, 'unit': None, 'global_step': 1629, 'timestamp': '2018-09-16T05:27:13.692855Z', 'extras': []}\n",
            "I0916 05:27:13.693079 139666181859200 tf_logging.py:115] Benchmark metric: {'name': 'accuracy_baseline', 'value': 0.7637737393379211, 'unit': None, 'global_step': 1629, 'timestamp': '2018-09-16T05:27:13.693052Z', 'extras': []}\n",
            "I0916 05:27:13.693253 139666181859200 tf_logging.py:115] Benchmark metric: {'name': 'auc', 'value': 0.8844171762466431, 'unit': None, 'global_step': 1629, 'timestamp': '2018-09-16T05:27:13.693224Z', 'extras': []}\n",
            "I0916 05:27:13.693413 139666181859200 tf_logging.py:115] Benchmark metric: {'name': 'auc_precision_recall', 'value': 0.6966954469680786, 'unit': None, 'global_step': 1629, 'timestamp': '2018-09-16T05:27:13.693375Z', 'extras': []}\n",
            "I0916 05:27:13.693564 139666181859200 tf_logging.py:115] Benchmark metric: {'name': 'average_loss', 'value': 0.350449800491333, 'unit': None, 'global_step': 1629, 'timestamp': '2018-09-16T05:27:13.693531Z', 'extras': []}\n",
            "I0916 05:27:13.693716 139666181859200 tf_logging.py:115] Benchmark metric: {'name': 'label/mean', 'value': 0.23622627556324005, 'unit': None, 'global_step': 1629, 'timestamp': '2018-09-16T05:27:13.693685Z', 'extras': []}\n",
            "I0916 05:27:13.693876 139666181859200 tf_logging.py:115] Benchmark metric: {'name': 'loss', 'value': 13.984493255615234, 'unit': None, 'global_step': 1629, 'timestamp': '2018-09-16T05:27:13.693845Z', 'extras': []}\n",
            "I0916 05:27:13.694046 139666181859200 tf_logging.py:115] Benchmark metric: {'name': 'precision', 'value': 0.6860687136650085, 'unit': None, 'global_step': 1629, 'timestamp': '2018-09-16T05:27:13.694016Z', 'extras': []}\n",
            "I0916 05:27:13.694239 139666181859200 tf_logging.py:115] Benchmark metric: {'name': 'prediction/mean', 'value': 0.24031953513622284, 'unit': None, 'global_step': 1629, 'timestamp': '2018-09-16T05:27:13.694206Z', 'extras': []}\n",
            "I0916 05:27:13.694420 139666181859200 tf_logging.py:115] Benchmark metric: {'name': 'recall', 'value': 0.5608424544334412, 'unit': None, 'global_step': 1629, 'timestamp': '2018-09-16T05:27:13.694378Z', 'extras': []}\n"
          ],
          "name": "stdout"
        }
      ]
    }
  ]
}